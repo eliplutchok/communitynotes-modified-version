{
 "cells": [
  {
   "cell_type": "code",
   "execution_count": null,
   "metadata": {},
   "outputs": [],
   "source": [
    "import networkx as nx\n",
    "import pandas as pd\n",
    "from community import community_louvain\n",
    "import random\n",
    "import glob"
   ]
  },
  {
   "cell_type": "code",
   "execution_count": null,
   "metadata": {},
   "outputs": [],
   "source": [
    "# Adjust the path to your data source to include the directory and the pattern\n",
    "path_to_files = './ratings-*.tsv'  # Assuming the files are in the current directory\n",
    "\n",
    "# Use glob to find all files matching the pattern\n",
    "file_list = glob.glob(path_to_files)\n",
    "\n",
    "# Load and concatenate the data from all matching files\n",
    "df_list = [pd.read_csv(file, sep='\\t', usecols=['noteId', 'raterParticipantId']) for file in file_list]\n",
    "df = pd.concat(df_list, ignore_index=True)\n",
    "\n",
    "# Create a graph from the DataFrame\n",
    "G = nx.from_pandas_edgelist(df, 'raterParticipantId', 'noteId', create_using=nx.Graph())"
   ]
  },
  {
   "cell_type": "code",
   "execution_count": null,
   "metadata": {},
   "outputs": [],
   "source": [
    "# Detect communities\n",
    "partition = community_louvain.best_partition(G)"
   ]
  },
  {
   "cell_type": "code",
   "execution_count": null,
   "metadata": {},
   "outputs": [],
   "source": [
    "# Calculate Modularity Score\n",
    "modularity_score = community_louvain.modularity(partition, G)\n",
    "print(f\"Modularity Score: {modularity_score}\")"
   ]
  },
  {
   "cell_type": "code",
   "execution_count": null,
   "metadata": {},
   "outputs": [],
   "source": [
    "# Convert partition to a community-to-nodes mapping\n",
    "communities = {}\n",
    "for node, comm in partition.items():\n",
    "    if comm not in communities:\n",
    "        communities[comm] = []\n",
    "    communities[comm].append(node)"
   ]
  },
  {
   "cell_type": "code",
   "execution_count": null,
   "metadata": {},
   "outputs": [],
   "source": [
    "# Iterate through communities to calculate metrics\n",
    "for comm, nodes in communities.items():\n",
    "    subgraph = G.subgraph(nodes)\n",
    "    edge_density = nx.density(subgraph)\n",
    "    clustering_coefficient = nx.average_clustering(subgraph)\n",
    "    # Conductance requires information about the community and the rest of the graph\n",
    "    conductance = nx.conductance(G, nodes)\n",
    "    \n",
    "    print(f\"Community {comm}:\")\n",
    "    print(f\"  Nodes: {len(nodes)}\")\n",
    "    print(f\"  Edge Density: {edge_density}\")\n",
    "    print(f\"  Clustering Coefficient: {clustering_coefficient}\")\n",
    "    print(f\"  Conductance: {conductance}\")"
   ]
  }
 ],
 "metadata": {
  "language_info": {
   "name": "python"
  }
 },
 "nbformat": 4,
 "nbformat_minor": 2
}
